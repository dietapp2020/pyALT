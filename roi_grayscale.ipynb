{
 "cells": [
  {
   "cell_type": "code",
   "execution_count": 1,
   "metadata": {},
   "outputs": [],
   "source": [
    "from pyALT import *\n",
    "import pyALT.io as io\n",
    "from scipy.stats import kendalltau\n",
    "from scipy.stats import pearsonr\n",
    "import pickle as pk\n",
    "from PIL import Image\n",
    "from matplotlib import pyplot as plt\n",
    "from collections import namedtuple"
   ]
  },
  {
   "cell_type": "code",
   "execution_count": 3,
   "metadata": {},
   "outputs": [],
   "source": [
    "mask = load_mask('Animal A - M022411')"
   ]
  },
  {
   "cell_type": "code",
   "execution_count": 4,
   "metadata": {},
   "outputs": [],
   "source": [
    "G = io.load('meso_cortex.pk')\n",
    "L = ALT(G)\n",
    "thresholds = {'VISp':4,'AUDp':1,'GU':2.5,'SSp-ul':2.5,'SSp-tr':2.5,\n",
    "              'SSp-m':4,'SSp-bfd':4,'SSp-ll':1.5,'SSp-n':0.98,'MOB':0.46}\n",
    "srcs = ['SSp-n','AUDp','VISp','GU','SSp-ul','SSp-tr','SSp-m','SSp-bfd','SSp-ll','MOB']\n",
    "for src in srcs:\n",
    "    L.add_source(src)\n",
    "    L.set_theta(src,0.98)\n",
    "L.set_theta('MOB',0.46)\n",
    "L.run()\n",
    "L.form_paths()\n",
    "pc = L.path_centrality()\n",
    "core = L.core()\n",
    "core_nodes = [xx[0] for xx in core]\n",
    "with open('info.pk','rb') as f:\n",
    "    tx = pk.load(f)"
   ]
  },
  {
   "cell_type": "code",
   "execution_count": 5,
   "metadata": {},
   "outputs": [],
   "source": [
    "import copy"
   ]
  },
  {
   "cell_type": "code",
   "execution_count": 6,
   "metadata": {},
   "outputs": [
    {
     "name": "stdout",
     "output_type": "stream",
     "text": [
      "38\n"
     ]
    },
    {
     "data": {
      "text/plain": [
       "<matplotlib.image.AxesImage at 0x1220bb198>"
      ]
     },
     "execution_count": 6,
     "metadata": {},
     "output_type": "execute_result"
    },
    {
     "data": {
      "image/png": "[encoded data removed]",
      "text/plain": [
       "<matplotlib.figure.Figure at 0x112509160>"
      ]
     },
     "metadata": {},
     "output_type": "display_data"
    }
   ],
   "source": [
    "m = copy.deepcopy(mask)\n",
    "for i,k in enumerate(tx['mapped_rois']):\n",
    "    r = np.random.randint(2,15)\n",
    "    m +=  (r)*np.array(tx['mapped_rois'][k],dtype='int8')\n",
    "m[mask==0] = -1\n",
    "print(np.max(m))\n",
    "fig= plt.figure(figsize=(10,10))\n",
    "plt.imshow(m,cmap='Accent')"
   ]
  },
  {
   "cell_type": "code",
   "execution_count": 7,
   "metadata": {},
   "outputs": [],
   "source": [
    "with open('a1-visual-4.pk','rb') as f:\n",
    "    visp = pk.load(f)\n",
    "m,n = mask.shape\n",
    "vsd = np.zeros((m,n))\n",
    "s = set([])\n",
    "for i in range(m):\n",
    "    for j in range(n):\n",
    "        try:\n",
    "            x = visp[(i,j)].peak_time\n",
    "            vsd[i][j] = x\n",
    "            s.add(x)\n",
    "        except KeyError:\n",
    "            pass"
   ]
  },
  {
   "cell_type": "code",
   "execution_count": 8,
   "metadata": {},
   "outputs": [],
   "source": [
    "res = {}\n",
    "sensor = 'VISp'\n",
    "res[sensor] = defaultdict(list)\n",
    "for w in tx['mapped_rois']:\n",
    "    if w in tx['ex']:continue\n",
    "    roi = tx['mapped_rois'][w]\n",
    "    for i in range(m):\n",
    "        for j in range(n):\n",
    "            if roi[i][j]<1:continue\n",
    "            tmp = vsd[i,j]\n",
    "            if tmp>=31:\n",
    "                res[sensor][w] += [tmp]"
   ]
  },
  {
   "cell_type": "code",
   "execution_count": 9,
   "metadata": {},
   "outputs": [
    {
     "name": "stdout",
     "output_type": "stream",
     "text": [
      "ROI, 5-percentile,Median, Mode, Mode Freq.\n"
     ]
    }
   ],
   "source": [
    "def dist_break(x):\n",
    "    out = []\n",
    "    N = np.sum([xx[1] for xx in x])\n",
    "    out.append((x[0][0],x[0][1]*100/N))\n",
    "    x = sorted(x,key=lambda x:x[0])\n",
    "    q = 0\n",
    "    a5 = int(N*.05)\n",
    "    a50 = int(N*.5)\n",
    "    a5_set = False\n",
    "    a50_set = False\n",
    "    for w in x:\n",
    "        q+=w[1]\n",
    "        if q>=a5 and not a5_set:\n",
    "            out.append(w[0])\n",
    "            a5_set = True\n",
    "        if q>=a50 and not a50_set:\n",
    "            out.append(w[0])\n",
    "            a50_set = True\n",
    "        if a5_set and a50_set:break\n",
    "    return out\n",
    "Majid = namedtuple('Majid','roi init med mode freq')\n",
    "S = {}\n",
    "print('ROI, 5-percentile,Median, Mode, Mode Freq.')\n",
    "for w in res[sensor]:\n",
    "    cur = res[sensor][w]\n",
    "    c = Counter(cur)\n",
    "    tmp = sorted([(x,c[x]) for x in c],reverse=True,key = lambda x:x[1])\n",
    "    y = dist_break(tmp)\n",
    "    st = f'{w},{int(y[1])},{int(y[2])},{int(y[0][0])},{int(y[0][1])}'\n",
    "    S[w] = Majid(roi=w,init=y[1],med=y[2],mode=y[0][0],freq =y[0][1])"
   ]
  },
  {
   "cell_type": "code",
   "execution_count": 10,
   "metadata": {},
   "outputs": [],
   "source": [
    "Sp = {}\n",
    "for k in S:\n",
    "    Sp[k] = S[k].init"
   ]
  },
  {
   "cell_type": "code",
   "execution_count": 11,
   "metadata": {},
   "outputs": [],
   "source": [
    "adag = L('VISp')\n",
    "Z = {}\n",
    "tmp = [xx.mode for xx in S.values()]\n",
    "mm = min(tmp)\n",
    "mx = max(tmp)\n",
    "for w in S:\n",
    "    roi = S[w].roi\n",
    "    Z[roi] = adag.node[roi]['activation_time']\n",
    "tmp = [xx for xx in Z.values()]\n",
    "zm = min(tmp)\n",
    "zx = max(tmp)\n",
    "ZZ = {}\n",
    "for w in S:\n",
    "    roi = S[w].roi\n",
    "    ZZ[roi] = mm+(mx-mm)*adag.node[roi]['activation_time']/zx\n",
    "    ZZ[roi] = int(round(ZZ[roi]))"
   ]
  },
  {
   "cell_type": "code",
   "execution_count": 12,
   "metadata": {},
   "outputs": [],
   "source": [
    "def plot_activation(acts1, acts2, acts3, rois,mask):\n",
    "    m,n = mask.shape\n",
    "    pic1 = np.zeros((m,n,3),dtype=np.uint8)\n",
    "    pic1[:,:,2] = 255\n",
    "    pic2 = np.zeros((m,n,3),dtype=np.uint8)\n",
    "    pic2[:,:,2] = 255\n",
    "    pic3 = np.zeros((m,n,3),dtype=np.uint8)\n",
    "    pic3[:,:,2] = 255\n",
    "    s = sorted(acts1.values())\n",
    "    m0 = s[0]\n",
    "    m1 = s[-1]\n",
    "    s = sorted(acts2.values())\n",
    "    n0 = s[0]\n",
    "    n1 = s[-1]\n",
    "    s = sorted(acts3.values())\n",
    "    p0 = s[0]\n",
    "    p1 = s[-1]\n",
    "    for roi in acts1:\n",
    "        _level = (acts1[roi]-m0)/(m1-m0)\n",
    "        level1 = int(_level*255)\n",
    "        _level = (acts2[roi]-n0)/(n1-n0)\n",
    "        level2 = int(_level*255)\n",
    "        _level = (acts3[roi]-p0)/(p1-p0)\n",
    "        level3 = int(_level*255)\n",
    "        cur = rois[roi]\n",
    "        pic1[cur==1,0] = level1\n",
    "        pic1[cur==1,1] = level1\n",
    "        pic1[cur==1,2] = level1\n",
    "        pic2[cur==1,0] = level2\n",
    "        pic2[cur==1,1] = level2\n",
    "        pic2[cur==1,2] = level2\n",
    "        pic3[cur==1,0] = level3\n",
    "        pic3[cur==1,1] = level3\n",
    "        pic3[cur==1,2] = level3\n",
    "    return (pic1,pic2,pic3)"
   ]
  },
  {
   "cell_type": "code",
   "execution_count": 13,
   "metadata": {},
   "outputs": [],
   "source": [
    "pic1, pic2, pic3 = plot_activation(Sp,Z,ZZ,tx['mapped_rois'],mask)"
   ]
  },
  {
   "cell_type": "code",
   "execution_count": 15,
   "metadata": {},
   "outputs": [
    {
     "data": {
      "text/plain": [
       "<matplotlib.image.AxesImage at 0x122737dd8>"
      ]
     },
     "execution_count": 15,
     "metadata": {},
     "output_type": "execute_result"
    },
    {
     "data": {
      "image/png": "[encoded data removed]",
      "text/plain": [
       "<matplotlib.figure.Figure at 0x123793ef0>"
      ]
     },
     "metadata": {},
     "output_type": "display_data"
    }
   ],
   "source": [
    "fig,ax = plt.subplots(nrows=1,ncols=2,figsize=(14,8))\n",
    "ax[0].imshow(pic1)\n",
    "ax[1].imshow(pic3)\n",
    "# ax[2].imshow(pic2)"
   ]
  },
  {
   "cell_type": "code",
   "execution_count": 96,
   "metadata": {},
   "outputs": [
    {
     "data": {
      "text/plain": [
       "<matplotlib.image.AxesImage at 0x118be12b0>"
      ]
     },
     "execution_count": 96,
     "metadata": {},
     "output_type": "execute_result"
    },
    {
     "data": {
      "image/png": "[encoded data removed]",
      "text/plain": [
       "<matplotlib.figure.Figure at 0x105fce780>"
      ]
     },
     "metadata": {},
     "output_type": "display_data"
    }
   ],
   "source": [
    "plt.imshow(mask)"
   ]
  },
  {
   "cell_type": "code",
   "execution_count": 93,
   "metadata": {},
   "outputs": [
    {
     "data": {
      "text/plain": [
       "array([[[  0.,   0., 255.],\n",
       "        [  0.,   0., 255.],\n",
       "        [  0.,   0., 255.],\n",
       "        ...,\n",
       "        [  0.,   0., 255.],\n",
       "        [  0.,   0., 255.],\n",
       "        [  0.,   0., 255.]],\n",
       "\n",
       "       [[  0.,   0., 255.],\n",
       "        [  0.,   0., 255.],\n",
       "        [  0.,   0., 255.],\n",
       "        ...,\n",
       "        [  0.,   0., 255.],\n",
       "        [  0.,   0., 255.],\n",
       "        [  0.,   0., 255.]],\n",
       "\n",
       "       [[  0.,   0., 255.],\n",
       "        [  0.,   0., 255.],\n",
       "        [  0.,   0., 255.],\n",
       "        ...,\n",
       "        [  0.,   0., 255.],\n",
       "        [  0.,   0., 255.],\n",
       "        [  0.,   0., 255.]],\n",
       "\n",
       "       ...,\n",
       "\n",
       "       [[  0.,   0., 255.],\n",
       "        [  0.,   0., 255.],\n",
       "        [  0.,   0., 255.],\n",
       "        ...,\n",
       "        [  0.,   0., 255.],\n",
       "        [  0.,   0., 255.],\n",
       "        [  0.,   0., 255.]],\n",
       "\n",
       "       [[  0.,   0., 255.],\n",
       "        [  0.,   0., 255.],\n",
       "        [  0.,   0., 255.],\n",
       "        ...,\n",
       "        [  0.,   0., 255.],\n",
       "        [  0.,   0., 255.],\n",
       "        [  0.,   0., 255.]],\n",
       "\n",
       "       [[  0.,   0., 255.],\n",
       "        [  0.,   0., 255.],\n",
       "        [  0.,   0., 255.],\n",
       "        ...,\n",
       "        [  0.,   0., 255.],\n",
       "        [  0.,   0., 255.],\n",
       "        [  0.,   0., 255.]]])"
      ]
     },
     "execution_count": 93,
     "metadata": {},
     "output_type": "execute_result"
    }
   ],
   "source": [
    "pic1"
   ]
  },
  {
   "cell_type": "code",
   "execution_count": 46,
   "metadata": {},
   "outputs": [],
   "source": [
    "t[np.ones((3,3))==1,1] = 1"
   ]
  },
  {
   "cell_type": "code",
   "execution_count": 47,
   "metadata": {},
   "outputs": [
    {
     "data": {
      "text/plain": [
       "array([[[  0.,   1., 255.],\n",
       "        [  0.,   1., 255.],\n",
       "        [  0.,   1., 255.]],\n",
       "\n",
       "       [[  0.,   1., 255.],\n",
       "        [  0.,   1., 255.],\n",
       "        [  0.,   1., 255.]],\n",
       "\n",
       "       [[  0.,   1., 255.],\n",
       "        [  0.,   1., 255.],\n",
       "        [  0.,   1., 255.]]])"
      ]
     },
     "execution_count": 47,
     "metadata": {},
     "output_type": "execute_result"
    }
   ],
   "source": [
    "t"
   ]
  },
  {
   "cell_type": "code",
   "execution_count": null,
   "metadata": {},
   "outputs": [],
   "source": []
  }
 ],
 "metadata": {
  "kernelspec": {
   "display_name": "Python 3",
   "language": "python",
   "name": "python3"
  },
  "language_info": {
   "codemirror_mode": {
    "name": "ipython",
    "version": 3
   },
   "file_extension": ".py",
   "mimetype": "text/x-python",
   "name": "python",
   "nbconvert_exporter": "python",
   "pygments_lexer": "ipython3",
   "version": "3.6.4"
  }
 },
 "nbformat": 4,
 "nbformat_minor": 2
}
