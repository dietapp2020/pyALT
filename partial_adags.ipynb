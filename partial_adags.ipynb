{
 "cells": [
  {
   "cell_type": "code",
   "execution_count": 5,
   "metadata": {},
   "outputs": [],
   "source": [
    "from pyALT import *\n",
    "import pyALT.io as io\n",
    "from scipy.stats import kendalltau\n",
    "from scipy.stats import pearsonr\n",
    "import numpy\n",
    "G = io.load('meso_cortex.pk')\n",
    "L = ALT(G)\n",
    "thresholds = {'VISp':4,'AUDp':1,'GU':2.5,'SSp-ul':2.5,'SSp-tr':2.5,\n",
    "              'SSp-m':4,'SSp-bfd':4,'SSp-ll':1.5,'SSp-n':0.98,'MOB':0.46}\n",
    "srcs = ['SSp-n','AUDp','VISp','GU','SSp-ul','SSp-tr','SSp-m','SSp-bfd','SSp-ll','MOB']\n",
    "for src in srcs:\n",
    "    L.add_source(src)\n",
    "    L.set_theta(src,.98)\n",
    "L.set_theta('MOB',0.46)\n",
    "L.run()\n",
    "L.form_paths()\n",
    "pc = L.path_centrality()\n",
    "core = L.core(100)"
   ]
  },
  {
   "cell_type": "code",
   "execution_count": 27,
   "metadata": {},
   "outputs": [],
   "source": [
    "import networkx as nx\n",
    "for src in L.srcs:\n",
    "    adag=L(src)\n",
    "    tmp = sorted([(xx,adag.node[xx]['activation_time'],adag.node[xx]['level']) for xx in adag.nodes()],key=lambda x:x[1])[0:11]\n",
    "    bunch = [xx[0] for xx in tmp]\n",
    "    Z = G.subgraph(bunch)\n",
    "    H = nx.DiGraph()\n",
    "    for v,w in Z.edges():\n",
    "        H.add_edge(v,w)\n",
    "        H[v][w]['kind'] = 'structral'\n",
    "    for v,w in adag.edges():\n",
    "        try:\n",
    "            H[v][w]['kind'] = 'adag'\n",
    "        except KeyError:\n",
    "            continue\n",
    "        H.node[v]['level'] = int(adag.node[v]['level'])\n",
    "        H.node[v]['activation_time'] = float(adag.node[v]['activation_time'])\n",
    "        H.node[w]['level'] = int(adag.node[v]['level'])\n",
    "        H.node[w]['activation_time'] = float(adag.node[v]['activation_time'])\n",
    "    nx.write_graphml(H, f\"partial_{src}.graphml\")"
   ]
  },
  {
   "cell_type": "code",
   "execution_count": 28,
   "metadata": {},
   "outputs": [],
   "source": [
    "H = nx.read_graphml(f\"partial_VISp.graphml\")"
   ]
  },
  {
   "cell_type": "code",
   "execution_count": 32,
   "metadata": {},
   "outputs": [
    {
     "data": {
      "text/plain": [
       "['AUDp',\n",
       " 'AUDv',\n",
       " 'TEa',\n",
       " 'AUDd',\n",
       " 'ECT',\n",
       " 'PTLp',\n",
       " 'SSs',\n",
       " 'LA',\n",
       " 'VISC',\n",
       " 'SSp-bfd',\n",
       " 'VISal']"
      ]
     },
     "execution_count": 32,
     "metadata": {},
     "output_type": "execute_result"
    }
   ],
   "source": [
    "adag = L('AUDp')\n",
    "tmp = sorted([(xx,adag.node[xx]['activation_time'],adag.node[xx]['level']) for xx in adag.nodes()],key=lambda x:x[1])[0:11]\n",
    "[xx[0] for xx in tmp]"
   ]
  },
  {
   "cell_type": "code",
   "execution_count": null,
   "metadata": {},
   "outputs": [],
   "source": []
  }
 ],
 "metadata": {
  "kernelspec": {
   "display_name": "Python 3",
   "language": "python",
   "name": "python3"
  },
  "language_info": {
   "codemirror_mode": {
    "name": "ipython",
    "version": 3
   },
   "file_extension": ".py",
   "mimetype": "text/x-python",
   "name": "python",
   "nbconvert_exporter": "python",
   "pygments_lexer": "ipython3",
   "version": "3.6.4"
  }
 },
 "nbformat": 4,
 "nbformat_minor": 2
}
