{
 "cells": [
  {
   "cell_type": "code",
   "execution_count": 35,
   "metadata": {},
   "outputs": [],
   "source": [
    "import json\n",
    "import numpy as np\n",
    "import pickle as pk\n",
    "import matplotlib.pyplot as plt\n",
    "import scipy.misc"
   ]
  },
  {
   "cell_type": "code",
   "execution_count": 36,
   "metadata": {},
   "outputs": [],
   "source": [
    "import pyALT as alt\n",
    "G = alt.io.load('meso_cortex.pk')"
   ]
  },
  {
   "cell_type": "code",
   "execution_count": 3,
   "metadata": {},
   "outputs": [
    {
     "name": "stderr",
     "output_type": "stream",
     "text": [
      "/anaconda2/envs/py36/lib/python3.6/site-packages/ipykernel_launcher.py:14: DeprecationWarning: `imread` is deprecated!\n",
      "`imread` is deprecated in SciPy 1.0.0, and will be removed in 1.2.0.\n",
      "Use ``imageio.imread`` instead.\n",
      "  \n"
     ]
    }
   ],
   "source": [
    "roi_dir = '/Users/kshadi3/Documents/ROIs/'\n",
    "from os import listdir\n",
    "from os.path import isfile, join\n",
    "def load_rois():\n",
    "    tmp = [f for f in listdir(roi_dir) if (isfile(join(roi_dir, f)) and '.png' in f and 'source_' in f)]\n",
    "    rois = [xx.split('_')[-1].split('.')[0] for xx in tmp]\n",
    "    db = {}\n",
    "    for i,w in enumerate(tmp):\n",
    "        roi = read_roi(join(roi_dir,w))\n",
    "        db[rois[i]] = roi\n",
    "    return db\n",
    "\n",
    "def read_roi(fp):\n",
    "    im = scipy.misc.imread(fp, flatten=False, mode='RGBA')\n",
    "    m,n,c = im.shape\n",
    "    roi = np.zeros((m,n),dtype='int8')\n",
    "    for i in range(m):\n",
    "        for j in range(n):\n",
    "            tmp = tuple(im[i,j])\n",
    "            if tmp[-1]>0:\n",
    "                roi[i,j] = 1\n",
    "    return roi\n",
    "\n",
    "def union_rois(db,rois,val=1):\n",
    "    out = db[rois[0]]\n",
    "    for w in rois[1:]:\n",
    "        out = out + db[w]\n",
    "    out[out>0] = val\n",
    "    return out\n",
    "rois = load_rois()"
   ]
  },
  {
   "cell_type": "code",
   "execution_count": 37,
   "metadata": {},
   "outputs": [],
   "source": [
    "excludes = []\n",
    "for roi in rois:\n",
    "    try:\n",
    "        G.node[roi]\n",
    "    except KeyError:\n",
    "        excludes.append(roi)"
   ]
  },
  {
   "cell_type": "code",
   "execution_count": 38,
   "metadata": {},
   "outputs": [],
   "source": [
    "landmarks = ['AUDp','SSp-bfd','SSp-ll','SSp-ul','VISp']"
   ]
  },
  {
   "cell_type": "code",
   "execution_count": 39,
   "metadata": {},
   "outputs": [],
   "source": [
    "# VSD\n",
    "animals = {\n",
    "    'd':'Animal_D_M022311',\n",
    "    'e':'Animal_E_M090611',\n",
    "    'c':'Animal_C_M022111',\n",
    "    'b':'Animal_B_M021811',\n",
    "    'a':'Animal_A_M022411'\n",
    "}\n",
    "_animal = 'd'\n",
    "animal = animals[_animal]\n",
    "base = '/Users/kshadi3/Dropbox/Constantine-Majid/'\n",
    "fp = base+animal+'/centers.json'\n",
    "with open(fp) as f:\n",
    "    cxs = json.load(f)\n",
    "# Atlas\n",
    "with open('/Users/kshadi3/Documents/ROIs/centers.json') as f:\n",
    "    atlas = json.load(f)\n",
    "vsd = np.array([cxs[xx] for xx in landmarks])\n",
    "allen = np.array([atlas[xx] for xx in landmarks])"
   ]
  },
  {
   "cell_type": "code",
   "execution_count": 40,
   "metadata": {},
   "outputs": [],
   "source": [
    "import pyALT as alt"
   ]
  },
  {
   "cell_type": "code",
   "execution_count": 41,
   "metadata": {},
   "outputs": [],
   "source": [
    "mask = alt.load_mask(animal)"
   ]
  },
  {
   "cell_type": "code",
   "execution_count": 42,
   "metadata": {},
   "outputs": [
    {
     "data": {
      "text/plain": [
       "(128, 128)"
      ]
     },
     "execution_count": 42,
     "metadata": {},
     "output_type": "execute_result"
    }
   ],
   "source": [
    "mask.shape"
   ]
  },
  {
   "cell_type": "code",
   "execution_count": 43,
   "metadata": {},
   "outputs": [
    {
     "name": "stderr",
     "output_type": "stream",
     "text": [
      "/Users/kshadi3/Desktop/_a/Module/pyALT/utils/affine.py:31: FutureWarning: `rcond` parameter will change to the default of machine precision times ``max(M, N)`` where M and N are the input matrix dimensions.\n",
      "To use the future default and silence this warning we advise to pass `rcond=None`, to keep using the old, explicitly pass `rcond=-1`.\n",
      "  A, res, rank, s = np.linalg.lstsq(X, Y)\n"
     ]
    }
   ],
   "source": [
    "T = alt.get_affine_transform(allen,vsd)"
   ]
  },
  {
   "cell_type": "code",
   "execution_count": 44,
   "metadata": {},
   "outputs": [],
   "source": [
    "def map_roi(data):\n",
    "    m,n = mask.shape\n",
    "    out = np.zeros((m,n))\n",
    "    for y,row in enumerate(data):\n",
    "        for x,col in enumerate(row):\n",
    "            if col<1:continue\n",
    "            xn,yn = T(x,y)\n",
    "            if 0<=xn<128 and 0<=yn<128:\n",
    "                i = int(round(yn))\n",
    "                j = int(round(xn))\n",
    "                if 0<=i<m and 0<=j<n and mask[i][j]>0:\n",
    "                    out[i][j] = 1\n",
    "    return out"
   ]
  },
  {
   "cell_type": "code",
   "execution_count": 45,
   "metadata": {},
   "outputs": [],
   "source": [
    "sz = []\n",
    "mapped_rois = {}\n",
    "for roi in rois:\n",
    "    data = rois[roi]\n",
    "    mapped_rois[roi] = map_roi(data)"
   ]
  },
  {
   "cell_type": "code",
   "execution_count": 48,
   "metadata": {},
   "outputs": [],
   "source": [
    "mapped = {}\n",
    "for roi in atlas:\n",
    "        mapped[roi] = T(*atlas[roi])"
   ]
  },
  {
   "cell_type": "code",
   "execution_count": 49,
   "metadata": {},
   "outputs": [
    {
     "name": "stdout",
     "output_type": "stream",
     "text": [
      "ROI,Size in Allen Atlas,Size in VSD data\n",
      "MOs,12.24,1.73\n",
      "VISp,8.41,8.40\n",
      "MOp,6.59,9.06\n",
      "SSp-bfd,4.94,8.58\n",
      "RSPd,4.78,0.96\n",
      "RSPagl,2.92,3.47\n",
      "SSp-ul,2.73,4.96\n",
      "SSp-m,2.46,3.94\n",
      "SSs,2.40,4.46\n",
      "SSp-ll,1.98,3.58\n",
      "VISa,1.73,3.14\n",
      "SSp-n,1.70,3.06\n",
      "SSp-tr,1.50,2.77\n",
      "VISpm,1.44,2.45\n",
      "AUDp,1.12,2.06\n",
      "VISrl,1.08,2.05\n",
      "VISl,1.05,1.43\n",
      "VISam,0.93,1.78\n",
      "SSp-un,0.83,1.68\n",
      "VISal,0.74,1.39\n",
      "VISpor,0.74,0.02\n",
      "AUDd,0.73,1.45\n",
      "TEa,0.71,0.73\n",
      "RSPv,0.63,0.00\n",
      "PL,0.60,0.00\n",
      "ACAd,0.50,0.21\n",
      "AUDpo,0.44,0.89\n",
      "VISli,0.38,0.58\n",
      "AUDv,0.36,0.83\n",
      "VISpl,0.35,0.00\n",
      "FRP,0.30,0.00\n",
      "--------\n"
     ]
    }
   ],
   "source": [
    "mm,mn = mask.shape\n",
    "m,n = rois['VISp'].shape\n",
    "out = []\n",
    "for roi in rois:\n",
    "    p = 100*np.sum(rois[roi])/m/n\n",
    "    _p = 100*np.sum(mapped_rois[roi])/mm/mn\n",
    "    out += [(roi,p,_p)]\n",
    "out = sorted(out,reverse=True,key=lambda x:x[1])\n",
    "print('ROI,Size in Allen Atlas,Size in VSD data')\n",
    "for w in out:\n",
    "    t = f'{w[0]},{w[1]:.2f},{w[2]:.2f}'\n",
    "    print(t)\n",
    "print('--------')\n",
    "for w in out:\n",
    "    if ((w[2]*128*127)<100):\n",
    "        excludes.append(w[0])"
   ]
  },
  {
   "cell_type": "code",
   "execution_count": 50,
   "metadata": {},
   "outputs": [],
   "source": [
    "tx = {}\n",
    "tx['rois'] = rois\n",
    "tx['mapped_rois'] = mapped_rois\n",
    "tx['T'] = T\n",
    "tx['landmarks'] = landmarks\n",
    "tx['ex'] = excludes"
   ]
  },
  {
   "cell_type": "code",
   "execution_count": 51,
   "metadata": {},
   "outputs": [],
   "source": [
    "with open(base+animal+'/tx.pk','wb') as f:\n",
    "    pk.dump(tx,f)"
   ]
  },
  {
   "cell_type": "code",
   "execution_count": 52,
   "metadata": {},
   "outputs": [
    {
     "name": "stdout",
     "output_type": "stream",
     "text": [
      "35\n"
     ]
    },
    {
     "data": {
      "text/plain": [
       "<matplotlib.image.AxesImage at 0x11cdbbc88>"
      ]
     },
     "execution_count": 52,
     "metadata": {},
     "output_type": "execute_result"
    },
    {
     "data": {
      "image/png": "[encoded data removed]",
      "text/plain": [
       "<matplotlib.figure.Figure at 0x110865438>"
      ]
     },
     "metadata": {},
     "output_type": "display_data"
    }
   ],
   "source": [
    "import copy\n",
    "m = np.array(mask,dtype='int16')\n",
    "m[m>0]=1\n",
    "for i,k in enumerate(tx['mapped_rois']):\n",
    "    r = np.random.randint(2,15)\n",
    "    m +=  (r)*np.array(tx['mapped_rois'][k],dtype='uint8')\n",
    "m[mask==0] = -1\n",
    "print(np.max(m))\n",
    "fig= plt.figure(figsize=(10,10))\n",
    "plt.imshow(m,cmap='Accent')"
   ]
  },
  {
   "cell_type": "code",
   "execution_count": 32,
   "metadata": {},
   "outputs": [
    {
     "data": {
      "text/plain": [
       "(128, 128)"
      ]
     },
     "execution_count": 32,
     "metadata": {},
     "output_type": "execute_result"
    }
   ],
   "source": [
    "mask.shape"
   ]
  },
  {
   "cell_type": "code",
   "execution_count": 105,
   "metadata": {},
   "outputs": [],
   "source": [
    "from PIL import Image,ImageDraw\n",
    "im = Image.open('/Users/kshadi3/Documents/ROIs/source.png')\n",
    "draw = ImageDraw.Draw(im)\n",
    "for roi in atlas:\n",
    "    x,y = atlas[roi]\n",
    "    if roi in landmarks:\n",
    "        draw.rectangle(((x-5, y-5), (x+5, y+5)), fill=0)\n",
    "    else:\n",
    "        draw.rectangle(((x-5, y-5), (x+5, y+5)), fill=128)\n",
    "im.show()"
   ]
  },
  {
   "cell_type": "code",
   "execution_count": 16,
   "metadata": {},
   "outputs": [],
   "source": [
    "with open('/Users/kshadi3/Desktop/_a/mask.pk','rb') as f:\n",
    "    mask = pk.load(f)"
   ]
  },
  {
   "cell_type": "code",
   "execution_count": 50,
   "metadata": {},
   "outputs": [],
   "source": [
    "import pickle as pk"
   ]
  },
  {
   "cell_type": "code",
   "execution_count": 26,
   "metadata": {},
   "outputs": [],
   "source": [
    "mask[60,:]=2"
   ]
  },
  {
   "cell_type": "code",
   "execution_count": 27,
   "metadata": {},
   "outputs": [
    {
     "data": {
      "text/plain": [
       "[<matplotlib.lines.Line2D at 0x117305be0>]"
      ]
     },
     "execution_count": 27,
     "metadata": {},
     "output_type": "execute_result"
    },
    {
     "data": {
      "image/png": "[encoded data removed]",
      "text/plain": [
       "<matplotlib.figure.Figure at 0x117305d68>"
      ]
     },
     "metadata": {},
     "output_type": "display_data"
    }
   ],
   "source": [
    "plt.imshow(mask)\n",
    "plt.plot(20,100,'*')"
   ]
  },
  {
   "cell_type": "code",
   "execution_count": 53,
   "metadata": {},
   "outputs": [],
   "source": [
    "import matplotlib.pyplot as plt"
   ]
  },
  {
   "cell_type": "code",
   "execution_count": 104,
   "metadata": {},
   "outputs": [
    {
     "data": {
      "text/plain": [
       "<matplotlib.image.AxesImage at 0x1203af898>"
      ]
     },
     "execution_count": 104,
     "metadata": {},
     "output_type": "execute_result"
    },
    {
     "data": {
      "image/png": "[encoded data removed]",
      "text/plain": [
       "<matplotlib.figure.Figure at 0x1203110f0>"
      ]
     },
     "metadata": {},
     "output_type": "display_data"
    }
   ],
   "source": [
    "img = Image.fromarray(mask,'P')\n",
    "# img = img.rotate(180)\n",
    "img = img.transpose(Image.FLIP_LEFT_RIGHT)\n",
    "data = np.array(img)\n",
    "# img = img.rotate(90)\n",
    "# img = img.transpose(Image.FLIP_LEFT_RIGHT)\n",
    "for q,roi in enumerate(mapped):\n",
    "    y,x = mapped[roi]\n",
    "    i = int(x)\n",
    "    j = int(y)\n",
    "    if i<0:i=0\n",
    "    if j<0:j=0\n",
    "    ax = max(i,i-5)\n",
    "    ay = max(j,j-5)\n",
    "    bx = min(127,i+5)\n",
    "    by = min(127,j+5)\n",
    "    data[ax:bx,ay:by] = q+2\n",
    "plt.imshow(data)"
   ]
  },
  {
   "cell_type": "code",
   "execution_count": 102,
   "metadata": {},
   "outputs": [
    {
     "data": {
      "text/plain": [
       "{'AUDp': [11.328389914486504, 101.47281684844857],\n",
       " 'MOp': [87.68842387665765, 13.385335576230613],\n",
       " 'MOs': [113.4321648467776, -10.5122649331649],\n",
       " 'RSPd': [110.01784231645382, 75.76505503998803],\n",
       " 'SSp-bfd': [43.56681926488173, 71.84241466151677],\n",
       " 'SSp-ll': [86.35703542258486, 44.43913593521417],\n",
       " 'SSp-ul': [69.75590665200042, 36.69125067736218],\n",
       " 'SSs': [19.37552690904557, 73.77327880706004],\n",
       " 'VISa': [74.61533277148524, 73.57496010658933],\n",
       " 'VISp': [62.991848746049534, 116.55438187745368]}"
      ]
     },
     "execution_count": 102,
     "metadata": {},
     "output_type": "execute_result"
    }
   ],
   "source": [
    "mapped"
   ]
  },
  {
   "cell_type": "code",
   "execution_count": 100,
   "metadata": {},
   "outputs": [
    {
     "data": {
      "text/plain": [
       "<matplotlib.image.AxesImage at 0x1202d7a90>"
      ]
     },
     "execution_count": 100,
     "metadata": {},
     "output_type": "execute_result"
    },
    {
     "data": {
      "image/png": "[encoded data removed]",
      "text/plain": [
       "<matplotlib.figure.Figure at 0x11fc7c1d0>"
      ]
     },
     "metadata": {},
     "output_type": "display_data"
    }
   ],
   "source": [
    "plt.imshow(np.zeros((100,20)))"
   ]
  },
  {
   "cell_type": "code",
   "execution_count": 95,
   "metadata": {},
   "outputs": [
    {
     "data": {
      "text/plain": [
       "{'AUDp': [11.328389914486504, 101.47281684844857],\n",
       " 'MOp': [87.68842387665765, 13.385335576230613],\n",
       " 'MOs': [113.4321648467776, -10.5122649331649],\n",
       " 'RSPd': [110.01784231645382, 75.76505503998803],\n",
       " 'SSp-bfd': [43.56681926488173, 71.84241466151677],\n",
       " 'SSp-ll': [86.35703542258486, 44.43913593521417],\n",
       " 'SSp-ul': [69.75590665200042, 36.69125067736218],\n",
       " 'SSs': [19.37552690904557, 73.77327880706004],\n",
       " 'VISa': [74.61533277148524, 73.57496010658933],\n",
       " 'VISp': [62.991848746049534, 116.55438187745368]}"
      ]
     },
     "execution_count": 95,
     "metadata": {},
     "output_type": "execute_result"
    }
   ],
   "source": [
    "mapped"
   ]
  },
  {
   "cell_type": "code",
   "execution_count": null,
   "metadata": {},
   "outputs": [],
   "source": []
  }
 ],
 "metadata": {
  "kernelspec": {
   "display_name": "Python 3",
   "language": "python",
   "name": "python3"
  },
  "language_info": {
   "codemirror_mode": {
    "name": "ipython",
    "version": 3
   },
   "file_extension": ".py",
   "mimetype": "text/x-python",
   "name": "python",
   "nbconvert_exporter": "python",
   "pygments_lexer": "ipython3",
   "version": "3.6.4"
  }
 },
 "nbformat": 4,
 "nbformat_minor": 2
}
