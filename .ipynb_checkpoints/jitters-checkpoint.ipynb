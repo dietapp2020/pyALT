{
 "cells": [
  {
   "cell_type": "code",
   "execution_count": 1,
   "metadata": {},
   "outputs": [],
   "source": [
    "from pyALT import *\n",
    "import pyALT.io as io\n",
    "from scipy.stats import kendalltau\n",
    "from scipy.stats import pearsonr\n",
    "import numpy as np"
   ]
  },
  {
   "cell_type": "code",
   "execution_count": 2,
   "metadata": {},
   "outputs": [],
   "source": [
    "G = io.load('meso_cortex.pk')"
   ]
  },
  {
   "cell_type": "code",
   "execution_count": 7,
   "metadata": {},
   "outputs": [],
   "source": [
    "from collections import Counter\n",
    "def my_mode(arr):\n",
    "    counter = Counter(arr)\n",
    "    max_count = max(counter.values())\n",
    "    mode = [k for k,v in counter.items() if v == max_count]\n",
    "    return mode"
   ]
  },
  {
   "cell_type": "code",
   "execution_count": 3,
   "metadata": {},
   "outputs": [],
   "source": [
    "def get_rand(x):\n",
    "    tmp = np.random.randn()\n",
    "    return x*tmp\n",
    "def jitter(G,prop,sigma):\n",
    "    D = nx.DiGraph()\n",
    "    for n in G.nodes():\n",
    "        D.add_node(n,**G.node[n])\n",
    "    for s,t in G.edges():\n",
    "        tmp = {**G[s][t]}\n",
    "        r = 1+get_rand(sigma)\n",
    "        if abs(r)<0.0001:\n",
    "            r = 0.0001*np.sign(r)\n",
    "        tmp[prop] = tmp[prop]/r\n",
    "        D.add_edge(s,t,**tmp)\n",
    "    return D"
   ]
  },
  {
   "cell_type": "code",
   "execution_count": 4,
   "metadata": {},
   "outputs": [],
   "source": [
    "L = ALT(G)\n",
    "thresholds = {'VISp':4,'AUDp':1,'GU':2.5,'SSp-ul':2.5,'SSp-tr':2.5,\n",
    "              'SSp-m':4,'SSp-bfd':4,'SSp-ll':1.5,'SSp-n':0.98}\n",
    "srcs = ['SSp-n','AUDp','VISp','GU','SSp-ul','SSp-tr','SSp-m','SSp-bfd','SSp-ll']\n",
    "for src in srcs:\n",
    "    L.add_source(src)\n",
    "    L.set_theta(src,0.98)\n",
    "L.run()\n",
    "L.form_paths()\n",
    "pc = L.path_centrality()\n",
    "core = L.core(100)\n",
    "nominal = [xx[0] for xx in core[0:9]]"
   ]
  },
  {
   "cell_type": "code",
   "execution_count": 8,
   "metadata": {},
   "outputs": [
    {
     "name": "stdout",
     "output_type": "stream",
     "text": [
      "DISTANCE------->\n",
      "1 20 0.2\n",
      "WEIGHT------->\n",
      "1 20 0.2\n",
      "Done\n"
     ]
    }
   ],
   "source": [
    "sl = [.2]\n",
    "D = {}\n",
    "print('DISTANCE------->')\n",
    "for q,s in enumerate(sl):\n",
    "    print(q+1,20,s)\n",
    "    for i in range(100):\n",
    "        key = (s,i)\n",
    "        L = ALT(jitter(G,'distance',s))\n",
    "        thresholds = {'VISp':4,'AUDp':1,'GU':2.5,'SSp-ul':2.5,'SSp-tr':2.5,\n",
    "                      'SSp-m':4,'SSp-bfd':4,'SSp-ll':1.5,'SSp-n':0.98,'MOB':0.46}\n",
    "        srcs = ['SSp-n','AUDp','VISp','GU','SSp-ul','SSp-tr','SSp-m','SSp-bfd','SSp-ll']\n",
    "        for src in srcs:\n",
    "            L.add_source(src)\n",
    "            L.set_theta(src,0.98)\n",
    "        L.run()\n",
    "        L.form_paths()\n",
    "        pc = L.path_centrality()\n",
    "        core = L.core(100)\n",
    "        orders=[('a',1,.1)]*len(srcs)\n",
    "        for v,src in enumerate(srcs):\n",
    "            adag = L(src)\n",
    "            orders[v] = (src,adag.order(),L._srcs[src])\n",
    "        D[key] = (core,orders)\n",
    "WD = defaultdict(list)\n",
    "for k in D:\n",
    "    res,_ = D[k]\n",
    "    for rank in range(15):\n",
    "        WD[rank] += [res[rank][0]]\n",
    "for k in WD:\n",
    "    WD[k] = my_mode(WD[k])\n",
    "D = {}\n",
    "print('WEIGHT------->')\n",
    "for q,s in enumerate(sl):\n",
    "    print(q+1,20,s)\n",
    "    for i in range(100):\n",
    "        key = (s,i)\n",
    "        L = ALT(jitter(G,'weight',s))\n",
    "        thresholds = {'VISp':4,'AUDp':1,'GU':2.5,'SSp-ul':2.5,'SSp-tr':2.5,\n",
    "                      'SSp-m':4,'SSp-bfd':4,'SSp-ll':1.5,'SSp-n':0.98,'MOB':0.46}\n",
    "        srcs = ['SSp-n','AUDp','VISp','GU','SSp-ul','SSp-tr','SSp-m','SSp-bfd','SSp-ll']\n",
    "        for src in srcs:\n",
    "            L.add_source(src)\n",
    "            L.set_theta(src,0.98)\n",
    "        L.run()\n",
    "        L.form_paths()\n",
    "        pc = L.path_centrality()\n",
    "        core = L.core(100)\n",
    "        orders=[('a',1,.1)]*len(srcs)\n",
    "        for v,src in enumerate(srcs):\n",
    "            adag = L(src)\n",
    "            orders[v] = (src,adag.order(),L._srcs[src])\n",
    "        D[key] = (core,orders)\n",
    "WW = defaultdict(list)\n",
    "for k in D:\n",
    "    res,_ = D[k]\n",
    "    for rank in range(15):\n",
    "        WW[rank] += [res[rank][0]]\n",
    "for k in WW:\n",
    "    WW[k] = my_mode(WW[k])\n",
    "print('Done')"
   ]
  },
  {
   "cell_type": "code",
   "execution_count": 19,
   "metadata": {},
   "outputs": [
    {
     "name": "stdout",
     "output_type": "stream",
     "text": [
      "\"Rank\" \"Nominal\" \"Weight jitter\" \"Distance jitter\"\n",
      "1 CLA CLA CLA\n",
      "2 PTLp PTLp PTLp\n",
      "3 AUDv AUDv AUDv\n",
      "4 SSs MOs SSs\n",
      "5 MOs SSs ACAd\n",
      "6 ACAd ACAd VISl\n",
      "7 VISl ECT PERI\n",
      "8 ECT VISl ECT\n"
     ]
    }
   ],
   "source": [
    "wr = ['CLA','PTLp','AUDv','MOs','SSs','ACAd','ECT','VISl']\n",
    "dr = ['CLA','PTLp','AUDv','SSs','ACAd','VISl','PERI','ECT']\n",
    "print('\"Rank\"','\"Nominal\"','\"Weight jitter\"','\"Distance jitter\"')\n",
    "for i in range(8):\n",
    "    print(i+1,nominal[i],wr[i],dr[i])"
   ]
  },
  {
   "cell_type": "code",
   "execution_count": 38,
   "metadata": {},
   "outputs": [],
   "source": [
    "from statistics import mode"
   ]
  },
  {
   "cell_type": "code",
   "execution_count": 5,
   "metadata": {},
   "outputs": [],
   "source": [
    "with open('weight_jitter.pk','wb') as f:\n",
    "    pk.dump(D,f)"
   ]
  },
  {
   "cell_type": "code",
   "execution_count": null,
   "metadata": {},
   "outputs": [],
   "source": [
    "with open('distance_jitter.pk','wb') as f:\n",
    "    pk.dump(D,f)"
   ]
  },
  {
   "cell_type": "code",
   "execution_count": 13,
   "metadata": {},
   "outputs": [],
   "source": [
    "import pickle as pk"
   ]
  },
  {
   "cell_type": "code",
   "execution_count": 6,
   "metadata": {},
   "outputs": [],
   "source": [
    "a = SRC('a',1)"
   ]
  },
  {
   "cell_type": "code",
   "execution_count": 30,
   "metadata": {},
   "outputs": [],
   "source": [
    "from collections import defaultdict"
   ]
  },
  {
   "cell_type": "code",
   "execution_count": 91,
   "metadata": {},
   "outputs": [
    {
     "name": "stdout",
     "output_type": "stream",
     "text": [
      "Source(name='SSp-n', theta=0.98) 67\n",
      "Source(name='AUDp', theta=0.98) 67\n",
      "Source(name='VISp', theta=0.98) 67\n",
      "Source(name='GU', theta=0.98) 67\n",
      "Source(name='SSs', theta=0.98) 67\n",
      "Source(name='SSp-ul', theta=0.98) 67\n",
      "Source(name='SSp-tr', theta=0.98) 67\n",
      "Source(name='SSp-m', theta=0.98) 67\n",
      "Source(name='SSp-bfd', theta=0.98) 67\n",
      "Source(name='SSp-ll', theta=0.98) 67\n",
      "Source(name='MOB', theta=0.46) 3\n"
     ]
    }
   ],
   "source": [
    "for i,adag in L.adags.items():\n",
    "    print(i,adag.order())"
   ]
  },
  {
   "cell_type": "code",
   "execution_count": 60,
   "metadata": {},
   "outputs": [],
   "source": [
    "from collections import Counter\n",
    "def my_mode(arr):\n",
    "    counter = Counter(arr)\n",
    "    max_count = max(counter.values())\n",
    "    mode = [k for k,v in counter.items() if v == max_count]\n",
    "    return mode"
   ]
  },
  {
   "cell_type": "code",
   "execution_count": 4,
   "metadata": {},
   "outputs": [],
   "source": [
    "from numpy import random"
   ]
  },
  {
   "cell_type": "code",
   "execution_count": 17,
   "metadata": {},
   "outputs": [
    {
     "data": {
      "text/plain": [
       "2.027005786381485"
      ]
     },
     "execution_count": 17,
     "metadata": {},
     "output_type": "execute_result"
    }
   ],
   "source": [
    "np.std(2*random.randn(1000))"
   ]
  },
  {
   "cell_type": "code",
   "execution_count": null,
   "metadata": {},
   "outputs": [],
   "source": []
  }
 ],
 "metadata": {
  "kernelspec": {
   "display_name": "Python 3",
   "language": "python",
   "name": "python3"
  },
  "language_info": {
   "codemirror_mode": {
    "name": "ipython",
    "version": 3
   },
   "file_extension": ".py",
   "mimetype": "text/x-python",
   "name": "python",
   "nbconvert_exporter": "python",
   "pygments_lexer": "ipython3",
   "version": "3.6.4"
  }
 },
 "nbformat": 4,
 "nbformat_minor": 2
}
