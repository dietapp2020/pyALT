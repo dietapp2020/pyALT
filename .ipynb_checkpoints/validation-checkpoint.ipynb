{
 "cells": [
  {
   "cell_type": "code",
   "execution_count": 51,
   "metadata": {},
   "outputs": [],
   "source": [
    "from pyALT import *\n",
    "import pyALT.io as io\n",
    "from scipy.stats import kendalltau\n",
    "from scipy.stats import pearsonr\n",
    "import pickle as pk\n",
    "from PIL import Image\n",
    "from matplotlib import pyplot as plt\n",
    "from collections import namedtuple\n",
    "from collections import Counter"
   ]
  },
  {
   "cell_type": "code",
   "execution_count": 24,
   "metadata": {},
   "outputs": [
    {
     "data": {
      "text/plain": [
       "<module 'pyALT.utils.vsd' from '/Users/kshadi3/Desktop/_a/Module/pyALT/utils/vsd.py'>"
      ]
     },
     "execution_count": 24,
     "metadata": {},
     "output_type": "execute_result"
    }
   ],
   "source": [
    "vsd"
   ]
  },
  {
   "cell_type": "code",
   "execution_count": 52,
   "metadata": {},
   "outputs": [],
   "source": [
    "animals = {\n",
    "    'd':'Animal_D_M022311',\n",
    "    'e':'Animal_E_M090611',\n",
    "    'c':'Animal_C_M022111',\n",
    "    'b':'Animal_B_M021811',\n",
    "    'a':'Animal_A_M022411'\n",
    "}\n",
    "_animal = 'd'\n",
    "animal = animals[_animal]"
   ]
  },
  {
   "cell_type": "code",
   "execution_count": 39,
   "metadata": {},
   "outputs": [],
   "source": [
    "fp = f'/Users/kshadi3/Dropbox/Constantine-Majid/{animal}/masked Data/Visual_Mean_G1_Masked.tif'"
   ]
  },
  {
   "cell_type": "code",
   "execution_count": 53,
   "metadata": {},
   "outputs": [],
   "source": [
    "G = io.load('meso_cortex.pk')"
   ]
  },
  {
   "cell_type": "code",
   "execution_count": 54,
   "metadata": {},
   "outputs": [],
   "source": [
    "mask = vsd.load_mask(animal)"
   ]
  },
  {
   "cell_type": "code",
   "execution_count": 55,
   "metadata": {},
   "outputs": [],
   "source": [
    "base = '/Users/kshadi3/Dropbox/Constantine-Majid/'"
   ]
  },
  {
   "cell_type": "code",
   "execution_count": 56,
   "metadata": {},
   "outputs": [],
   "source": [
    "L = ALT(G)\n",
    "thresholds = {'VISp':4,'AUDp':1,'GU':2.5,'SSp-ul':2.5,'SSp-tr':2.5,\n",
    "              'SSp-m':4,'SSp-bfd':4,'SSp-ll':1.5,'SSp-n':0.98,'MOB':0.46}\n",
    "srcs = ['SSp-n','AUDp','VISp','GU','SSp-ul','SSp-tr','SSp-m','SSp-bfd','SSp-ll','MOB']\n",
    "for src in srcs:\n",
    "    L.add_source(src)\n",
    "    L.set_theta(src,0.98)\n",
    "L.set_theta('MOB',0.46)\n",
    "L.run()\n",
    "L.form_paths()\n",
    "pc = L.path_centrality()\n",
    "core = L.core(100)"
   ]
  },
  {
   "cell_type": "code",
   "execution_count": 57,
   "metadata": {},
   "outputs": [],
   "source": [
    "core_nodes = [xx[0] for xx in core]"
   ]
  },
  {
   "cell_type": "code",
   "execution_count": 58,
   "metadata": {},
   "outputs": [],
   "source": [
    "import copy\n",
    "with open(base+animal+'/tx.pk','rb') as f:\n",
    "    tx = pk.load(f)"
   ]
  },
  {
   "cell_type": "code",
   "execution_count": 59,
   "metadata": {},
   "outputs": [],
   "source": [
    "import json\n",
    "with open('/Users/kshadi3/Documents/ROIs/colors.json') as f:\n",
    "    colors = json.load(f)\n",
    "def hex_to_rgb(value):\n",
    "    value = value.lstrip('#')\n",
    "    lv = len(value)\n",
    "    return tuple(int(value[i:i + lv // 3], 16) for i in range(0, lv, lv // 3))"
   ]
  },
  {
   "cell_type": "code",
   "execution_count": 60,
   "metadata": {},
   "outputs": [
    {
     "data": {
      "text/plain": [
       "<matplotlib.image.AxesImage at 0x11f113e10>"
      ]
     },
     "execution_count": 60,
     "metadata": {},
     "output_type": "execute_result"
    },
    {
     "data": {
      "image/png": "[encoded data removed]",
      "text/plain": [
       "<matplotlib.figure.Figure at 0x123101fd0>"
      ]
     },
     "metadata": {},
     "output_type": "display_data"
    }
   ],
   "source": [
    "m,n = mask.shape\n",
    "out = np.zeros((m,n,3))\n",
    "for i,k in enumerate(tx['mapped_rois']):\n",
    "    r = tx['mapped_rois'][k]\n",
    "    h = hex_to_rgb(colors[k])\n",
    "    out[r>0,:]=[h[0],h[1],h[2]]\n",
    "im = Image.fromarray(out,mode='RGB')\n",
    "fig= plt.figure(figsize=(10,10))\n",
    "plt.imshow(out)"
   ]
  },
  {
   "cell_type": "code",
   "execution_count": 61,
   "metadata": {},
   "outputs": [],
   "source": [
    "def dist_break(x):\n",
    "    out = []\n",
    "    N = np.sum([xx[1] for xx in x])\n",
    "    out.append((x[0][0],x[0][1]*100/N))\n",
    "    x = sorted(x,key=lambda x:x[0])\n",
    "    q = 0\n",
    "    a5 = int(N*.05)\n",
    "    a50 = int(N*.5)\n",
    "    a5_set = False\n",
    "    a50_set = False\n",
    "    for w in x:\n",
    "        q+=w[1]\n",
    "        if q>=a5 and not a5_set:\n",
    "            out.append(w[0])\n",
    "            a5_set = True\n",
    "        if q>=a50 and not a50_set:\n",
    "            out.append(w[0])\n",
    "            a50_set = True\n",
    "        if a5_set and a50_set:break\n",
    "    return out\n",
    "def randomize(S):\n",
    "    tmp = list(S.items())\n",
    "    out = {}\n",
    "    for k,majid in tmp:\n",
    "        out[k] = majid.init\n",
    "    l = len(tmp)\n",
    "    for i,val in enumerate(tmp):\n",
    "        roi,majid = val\n",
    "        while True:\n",
    "            j = np.random.randint(0,l)\n",
    "            sw = tmp[j][1]\n",
    "            if majid.init != sw.init:\n",
    "                break\n",
    "        out[tmp[i][0]] = tmp[j][1].init\n",
    "        out[tmp[j][0]] = tmp[i][1].init\n",
    "    return out\n",
    "def printPHD(PHD):\n",
    "    print('VSD/ALT,a>b,a=b,a<b')\n",
    "    di = np.sum(np.diag(PHD))\n",
    "    a = np.sum(PHD)\n",
    "    gold = di/(a)\n",
    "    bad = (PHD[0,2]+PHD[2,0])/a\n",
    "    for i in range(3):\n",
    "        h='a>b' if i==0 else ('a=b' if i==1 else 'a<b')\n",
    "        print(h+','+','.join([str(np.ceil(xx)) for xx in PHD[i]]))\n",
    "    print(',,'+str(round(gold*100))+'%,'+str(round(bad*100))+'%')\n",
    "def measure(t1,t2,_t1,_t2):\n",
    "    if t1>t2:\n",
    "        if _t1>_t2:\n",
    "            return (0,0)\n",
    "        elif _t1==_t2:\n",
    "            return (0,1)\n",
    "        else:\n",
    "            return (0,2)\n",
    "    elif t1==t2:\n",
    "        if _t1>_t2:\n",
    "            return (1,0)\n",
    "        elif _t1==_t2:\n",
    "            return (1,1)\n",
    "        else:\n",
    "            return (1,2)\n",
    "    else:\n",
    "        if _t1>_t2:\n",
    "            return (2,0)\n",
    "        elif _t1==_t2:\n",
    "            return (2,1)\n",
    "        else:\n",
    "            return (2,2)"
   ]
  },
  {
   "cell_type": "code",
   "execution_count": 62,
   "metadata": {},
   "outputs": [
    {
     "name": "stdout",
     "output_type": "stream",
     "text": [
      "---------Whisker--------\n",
      "VSD/ALT,a>b,a=b,a<b\n",
      "a>b,5.0,22.0,29.0\n",
      "a=b,16.0,24.0,26.0\n",
      "a<b,41.0,33.0,14.0\n",
      ",,20.0%,33.0%\n",
      "VSD/ALT,a>b,a=b,a<b\n",
      "a>b,24.0,22.0,10.0\n",
      "a=b,15.0,31.0,20.0\n",
      "a<b,9.0,24.0,55.0\n",
      ",,52.0%,9.0%\n",
      "===========================\n",
      "---------Formlimb--------\n",
      "VSD/ALT,a>b,a=b,a<b\n",
      "a>b,29.0,25.0,38.0\n",
      "a=b,19.0,11.0,7.0\n",
      "a<b,59.0,15.0,7.0\n",
      ",,22.0%,46.0%\n",
      "VSD/ALT,a>b,a=b,a<b\n",
      "a>b,60.0,26.0,6.0\n",
      "a=b,7.0,9.0,21.0\n",
      "a<b,2.0,7.0,72.0\n",
      ",,67.0%,4.0%\n",
      "===========================\n",
      "---------Hindlimb--------\n",
      "VSD/ALT,a>b,a=b,a<b\n",
      "a>b,29.0,23.0,24.0\n",
      "a=b,44.0,19.0,16.0\n",
      "a<b,36.0,11.0,8.0\n",
      ",,27.0%,29.0%\n",
      "VSD/ALT,a>b,a=b,a<b\n",
      "a>b,28.0,30.0,18.0\n",
      "a=b,19.0,38.0,22.0\n",
      "a<b,8.0,21.0,26.0\n",
      ",,44.0%,12.0%\n",
      "===========================\n",
      "---------Tone--------\n",
      "VSD/ALT,a>b,a=b,a<b\n",
      "a>b,27.0,31.0,26.0\n",
      "a=b,2.0,2.0,1.0\n",
      "a<b,62.0,43.0,16.0\n",
      ",,21.0%,42.0%\n",
      "VSD/ALT,a>b,a=b,a<b\n",
      "a>b,55.0,10.0,19.0\n",
      "a=b,1.0,2.0,2.0\n",
      "a<b,32.0,14.0,75.0\n",
      ",,63.0%,24.0%\n",
      "===========================\n",
      "---------Visual--------\n",
      "VSD/ALT,a>b,a=b,a<b\n",
      "a>b,30.0,19.0,45.0\n",
      "a=b,22.0,10.0,38.0\n",
      "a<b,9.0,11.0,26.0\n",
      ",,31.0%,26.0%\n",
      "VSD/ALT,a>b,a=b,a<b\n",
      "a>b,42.0,31.0,21.0\n",
      "a=b,14.0,37.0,19.0\n",
      "a<b,8.0,16.0,22.0\n",
      ",,48.0%,14.0%\n",
      "===========================\n"
     ]
    }
   ],
   "source": [
    "kamal = {}\n",
    "animal = animals[_animal]\n",
    "mask = vsd.load_mask(animal)\n",
    "sensors = ['Whisker','Formlimb','Hindlimb','Tone','Visual']\n",
    "for sensor in sensors:\n",
    "    with open(base+animal+'/tx.pk','rb') as f:\n",
    "        tx = pk.load(f)\n",
    "    with open(f'VSD/{_animal}-{sensor}-5.pk','rb') as f:\n",
    "        experiment = pk.load(f)\n",
    "    m,n = mask.shape\n",
    "    _vsd = np.zeros((m,n))\n",
    "    s = set([])\n",
    "    for i in range(m):\n",
    "        for j in range(n):\n",
    "            try:\n",
    "                x = experiment[(i,j)].peak_time\n",
    "                _vsd[i][j] = x\n",
    "                s.add(x)\n",
    "            except KeyError:\n",
    "                pass\n",
    "    res = {}\n",
    "    res[sensor] = defaultdict(list)\n",
    "    for w in tx['mapped_rois']:\n",
    "        if w in tx['ex']:continue\n",
    "        roi = tx['mapped_rois'][w]\n",
    "        for i in range(m):\n",
    "            for j in range(n):\n",
    "                if roi[i][j]<1:continue\n",
    "                tmp = _vsd[i,j]\n",
    "                if tmp>=31:\n",
    "                    res[sensor][w] += [tmp]\n",
    "    Majid = namedtuple('Majid','roi init med mode freq')\n",
    "    S = {}\n",
    "    for w in res[sensor]:\n",
    "        cur = res[sensor][w]\n",
    "        c = Counter(cur)\n",
    "        tmp = sorted([(x,c[x]) for x in c],reverse=True,key = lambda x:x[1])\n",
    "        y = dist_break(tmp)\n",
    "        S[w] = Majid(roi=w,init=y[1],med=y[2],mode=y[0][0],freq =y[0][1])\n",
    "    majid2roi = {'Tone':'AUDp','Visual':'VISp','Hindlimb':'SSp-ll','Formlimb':'SSp-ul','Whisker':'SSp-bfd'}\n",
    "    adag = L(majid2roi[sensor])\n",
    "    Z = {}\n",
    "    tmp = [xx.med for xx in S.values()]\n",
    "    mm = min(tmp)\n",
    "    mx = max(tmp)\n",
    "    for w in S:\n",
    "        roi = S[w].roi\n",
    "        Z[roi] = adag.node[roi]['activation_time']\n",
    "    tmp = [xx for xx in Z.values()]\n",
    "    zm = min(tmp)\n",
    "    zx = max(tmp)\n",
    "    for w in S:\n",
    "        roi = S[w].roi\n",
    "        Z[roi] = mm+(mx-mm)*adag.node[roi]['activation_time']/zx\n",
    "        Z[roi] = int(round(Z[roi]))\n",
    "    rs = randomize(S)\n",
    "    PHD = np.zeros((3,3))\n",
    "    _PHD = np.zeros((3,3))\n",
    "    key = list(Z.keys())\n",
    "    l = len(key)\n",
    "    for i in range(l-1):\n",
    "        for j in range(i+1,l):\n",
    "            k1 = key[i]\n",
    "            k2 = key[j]\n",
    "            t1 = Z[k1]\n",
    "            t2 = Z[k2]\n",
    "            _t1 = S[k1].med\n",
    "            _t2 = S[k2].med\n",
    "    #         _t1 = rs[k1]\n",
    "    #         _t2 = rs[k2]\n",
    "            u,v = measure(t1,t2,_t1,_t2)\n",
    "            PHD[u,v] +=1\n",
    "            _t1 = rs[k1]\n",
    "            _t2 = rs[k2]\n",
    "            u,v = measure(t1,t2,_t1,_t2)\n",
    "            _PHD[u,v] +=1\n",
    "    print(f'---------{sensor}--------')\n",
    "    printPHD(_PHD)\n",
    "    printPHD(PHD)\n",
    "    print('===========================')\n",
    "    kamal[(_animal,sensor)]=(PHD,_PHD)\n",
    "    with open(f'VSD/{_animal}-validation-{sensor}','wb') as f:\n",
    "        pk.dump(kamal,f)"
   ]
  },
  {
   "cell_type": "code",
   "execution_count": 36,
   "metadata": {},
   "outputs": [
    {
     "data": {
      "text/plain": [
       "<matplotlib.legend.Legend at 0x123a97eb8>"
      ]
     },
     "execution_count": 36,
     "metadata": {},
     "output_type": "execute_result"
    },
    {
     "data": {
      "image/png": "[encoded data removed]",
      "text/plain": [
       "<matplotlib.figure.Figure at 0x111cfa710>"
      ]
     },
     "metadata": {},
     "output_type": "display_data"
    }
   ],
   "source": [
    "o = res[sensor]['MOp']\n",
    "med = np.median(o)\n",
    "mo = int(min(o))\n",
    "mx = int(max(o)+1)\n",
    "xs = []\n",
    "ys = []\n",
    "for i in range(mo,mx):\n",
    "    xs.append(i)\n",
    "    ys.append(o.count(i))\n",
    "fig = plt.figure(figsize=(10,7))                                                               \n",
    "ax = fig.gca()  #get current axes\n",
    "ax.bar(xs[0], ys[0], .85, align='center',color='green')\n",
    "ax.bar(xs[1], ys[1], .85, align='center',label='Mode')\n",
    "ax.bar(xs[2:], ys[2:], .85, align='center',color='green')\n",
    "# ax.axvline(med,ls='dashed',lw=2,color='red',label='Median')\n",
    "plt.xlabel('Activation frame number',fontsize=18)\n",
    "plt.ylabel('Frequency',fontsize=18)\n",
    "# plt.title('MOp pixel activation time distribution - '+sensor,fontsize=18)\n",
    "plt.legend()"
   ]
  },
  {
   "cell_type": "code",
   "execution_count": 118,
   "metadata": {},
   "outputs": [
    {
     "data": {
      "text/plain": [
       "dict_keys(['Whisker'])"
      ]
     },
     "execution_count": 118,
     "metadata": {},
     "output_type": "execute_result"
    }
   ],
   "source": [
    "res.keys()"
   ]
  },
  {
   "cell_type": "code",
   "execution_count": 119,
   "metadata": {},
   "outputs": [],
   "source": []
  },
  {
   "cell_type": "code",
   "execution_count": 120,
   "metadata": {},
   "outputs": [
    {
     "data": {
      "text/plain": [
       "dict_keys(['Whisker'])"
      ]
     },
     "execution_count": 120,
     "metadata": {},
     "output_type": "execute_result"
    }
   ],
   "source": [
    "res.keys()"
   ]
  },
  {
   "cell_type": "code",
   "execution_count": 121,
   "metadata": {},
   "outputs": [
    {
     "name": "stdout",
     "output_type": "stream",
     "text": [
      "ROI, 5-percentile,Median, Mode, Mode Freq.\n"
     ]
    }
   ],
   "source": [
    "Majid = namedtuple('Majid','roi init med mode freq')\n",
    "S = {}\n",
    "print('ROI, 5-percentile,Median, Mode, Mode Freq.')\n",
    "for w in res[sensor]:\n",
    "    cur = res[sensor][w]\n",
    "    c = Counter(cur)\n",
    "    tmp = sorted([(x,c[x]) for x in c],reverse=True,key = lambda x:x[1])\n",
    "    y = dist_break(tmp)\n",
    "    st = f'{w},{int(y[1])},{int(y[2])},{int(y[0][0])},{int(y[0][1])}'\n",
    "    S[w] = Majid(roi=w,init=y[1],med=y[2],mode=y[0][0],freq =y[0][1])"
   ]
  },
  {
   "cell_type": "code",
   "execution_count": 122,
   "metadata": {},
   "outputs": [],
   "source": [
    "majid2roi = {'Tone':'AUDp','Visual':'VISp','Hindlimb':'SSp-ll','Formlimb':'SSp-ul','Whisker':'SSp-bfd'}\n",
    "adag = L(majid2roi[sensor])\n",
    "Z = {}\n",
    "tmp = [xx.med for xx in S.values()]\n",
    "mm = min(tmp)\n",
    "mx = max(tmp)\n",
    "for w in S:\n",
    "    roi = S[w].roi\n",
    "    Z[roi] = adag.node[roi]['activation_time']\n",
    "tmp = [xx for xx in Z.values()]\n",
    "zm = min(tmp)\n",
    "zx = max(tmp)\n",
    "for w in S:\n",
    "    roi = S[w].roi\n",
    "    Z[roi] = mm+(mx-mm)*adag.node[roi]['activation_time']/zx\n",
    "    Z[roi] = int(round(Z[roi]))"
   ]
  },
  {
   "cell_type": "code",
   "execution_count": 123,
   "metadata": {},
   "outputs": [],
   "source": [
    "def randomize(S):\n",
    "    tmp = list(S.items())\n",
    "    out = {}\n",
    "    for k,majid in tmp:\n",
    "        out[k] = majid.init\n",
    "    l = len(tmp)\n",
    "    for i,val in enumerate(tmp):\n",
    "        roi,majid = val\n",
    "        while True:\n",
    "            j = np.random.randint(0,l)\n",
    "            sw = tmp[j][1]\n",
    "            if majid.init != sw.init:\n",
    "                break\n",
    "        out[tmp[i][0]] = tmp[j][1].init\n",
    "        out[tmp[j][0]] = tmp[i][1].init\n",
    "    return out\n",
    "rs = randomize(S)"
   ]
  },
  {
   "cell_type": "code",
   "execution_count": 124,
   "metadata": {},
   "outputs": [
    {
     "name": "stdout",
     "output_type": "stream",
     "text": [
      "VSD/ALT,a>b,a=b,a<b\n",
      "a>b,43.0,19.0,19.0\n",
      "a=b,2.0,1.0,3.0\n",
      "a<b,21.0,26.0,76.0\n",
      ",,57.0%,19.0%\n",
      "VSD/ALT,a>b,a=b,a<b\n",
      "a>b,17.0,31.0,33.0\n",
      "a=b,3.0,2.0,1.0\n",
      "a<b,51.0,49.0,23.0\n",
      ",,20.0%,40.0%\n"
     ]
    }
   ],
   "source": []
  },
  {
   "cell_type": "code",
   "execution_count": 100,
   "metadata": {},
   "outputs": [
    {
     "data": {
      "text/plain": [
       "array([[16., 37., 43.],\n",
       "       [17., 16., 19.],\n",
       "       [20., 22., 20.]])"
      ]
     },
     "execution_count": 100,
     "metadata": {},
     "output_type": "execute_result"
    }
   ],
   "source": [
    "_PHD"
   ]
  },
  {
   "cell_type": "code",
   "execution_count": 27,
   "metadata": {},
   "outputs": [],
   "source": []
  },
  {
   "cell_type": "code",
   "execution_count": 28,
   "metadata": {},
   "outputs": [
    {
     "data": {
      "text/plain": [
       "1.0"
      ]
     },
     "execution_count": 28,
     "metadata": {},
     "output_type": "execute_result"
    }
   ],
   "source": [
    "Point = namedtuple('Point', 'x y')\n",
    "pt1 = Point(1.0, 5.0)\n",
    "pt2 = Point(2.5, 1.5)\n",
    "pt1.x"
   ]
  },
  {
   "cell_type": "code",
   "execution_count": 29,
   "metadata": {},
   "outputs": [],
   "source": [
    "def plot(m1,m2,ax=None,ylabel=None,text=True):\n",
    "    if ax is None:\n",
    "        fig,ax = plt.subplots(figsize=(5,5))\n",
    "    d1 = dict(m1)\n",
    "    d2 = dict(m2)\n",
    "    \n",
    "    vec1 = []\n",
    "    vec2 = []\n",
    "    for w in d1:\n",
    "        v1 = d1[w]\n",
    "        v2 = d2[w]\n",
    "        if w in core_nodes:\n",
    "            ax.plot(v1,v2,'r*',ms=8)\n",
    "#         elif w in s5:\n",
    "#             ax.plot(v1,v2,'kd',ms=8)\n",
    "        else:\n",
    "            ax.plot(v1,v2,'bs',ms=6)\n",
    "        vec1.append(v1)\n",
    "        vec2.append(v2)\n",
    "    k,_ = kendalltau(vec1,vec2)\n",
    "    y = .9*np.max(vec2)\n",
    "    if text:\n",
    "        ax.text(.15,y,r'kendall $\\tau$='+f'{k:.3f}')\n",
    "    p,_ = pearsonr(vec1,vec2)\n",
    "    ax.set_xlim(left=-0.01)\n",
    "    ax.set_ylim(bottom=-0.01)\n",
    "    if ylabel:\n",
    "        ax.set_ylabel(ylabel,fontsize=18)\n",
    "    return (k,p)"
   ]
  },
  {
   "cell_type": "code",
   "execution_count": 30,
   "metadata": {},
   "outputs": [
    {
     "ename": "NameError",
     "evalue": "name 'so' is not defined",
     "output_type": "error",
     "traceback": [
      "\u001b[0;31m---------------------------------------------------------------------------\u001b[0m",
      "\u001b[0;31mNameError\u001b[0m                                 Traceback (most recent call last)",
      "\u001b[0;32m<ipython-input-30-a2ccb39c1d44>\u001b[0m in \u001b[0;36m<module>\u001b[0;34m()\u001b[0m\n\u001b[1;32m      1\u001b[0m \u001b[0mfig\u001b[0m\u001b[0;34m,\u001b[0m\u001b[0max\u001b[0m \u001b[0;34m=\u001b[0m \u001b[0mplt\u001b[0m\u001b[0;34m.\u001b[0m\u001b[0msubplots\u001b[0m\u001b[0;34m(\u001b[0m\u001b[0mnrows\u001b[0m\u001b[0;34m=\u001b[0m\u001b[0;36m2\u001b[0m\u001b[0;34m,\u001b[0m\u001b[0mncols\u001b[0m\u001b[0;34m=\u001b[0m\u001b[0;36m3\u001b[0m\u001b[0;34m,\u001b[0m\u001b[0mfigsize\u001b[0m\u001b[0;34m=\u001b[0m\u001b[0;34m(\u001b[0m\u001b[0;36m15\u001b[0m\u001b[0;34m,\u001b[0m\u001b[0;36m10\u001b[0m\u001b[0;34m)\u001b[0m\u001b[0;34m,\u001b[0m\u001b[0msharex\u001b[0m\u001b[0;34m=\u001b[0m\u001b[0;32mTrue\u001b[0m\u001b[0;34m)\u001b[0m\u001b[0;34m\u001b[0m\u001b[0m\n\u001b[0;32m----> 2\u001b[0;31m mets = [(so,si,'Strength','out-strength','in-strength'),(bc,cn,'shortest path','betweenness','closeness')\n\u001b[0m\u001b[1;32m      3\u001b[0m         ,(pr,ev,'spectral','pagerank','eigen')]\n\u001b[1;32m      4\u001b[0m \u001b[0;32mfor\u001b[0m \u001b[0mi\u001b[0m\u001b[0;34m,\u001b[0m\u001b[0mw\u001b[0m \u001b[0;32min\u001b[0m \u001b[0menumerate\u001b[0m\u001b[0;34m(\u001b[0m\u001b[0mmets\u001b[0m\u001b[0;34m)\u001b[0m\u001b[0;34m:\u001b[0m\u001b[0;34m\u001b[0m\u001b[0m\n\u001b[1;32m      5\u001b[0m     \u001b[0mk\u001b[0m\u001b[0;34m,\u001b[0m\u001b[0mp\u001b[0m \u001b[0;34m=\u001b[0m \u001b[0mplot\u001b[0m\u001b[0;34m(\u001b[0m\u001b[0mpc\u001b[0m\u001b[0;34m,\u001b[0m\u001b[0mw\u001b[0m\u001b[0;34m[\u001b[0m\u001b[0;36m0\u001b[0m\u001b[0;34m]\u001b[0m\u001b[0;34m,\u001b[0m\u001b[0max\u001b[0m\u001b[0;34m[\u001b[0m\u001b[0;36m0\u001b[0m\u001b[0;34m,\u001b[0m\u001b[0mi\u001b[0m\u001b[0;34m]\u001b[0m\u001b[0;34m,\u001b[0m\u001b[0mw\u001b[0m\u001b[0;34m[\u001b[0m\u001b[0;36m3\u001b[0m\u001b[0;34m]\u001b[0m\u001b[0;34m)\u001b[0m\u001b[0;34m\u001b[0m\u001b[0m\n",
      "\u001b[0;31mNameError\u001b[0m: name 'so' is not defined"
     ]
    },
    {
     "data": {
      "image/png": "[encoded data removed]",
      "text/plain": [
       "<matplotlib.figure.Figure at 0x117750828>"
      ]
     },
     "metadata": {},
     "output_type": "display_data"
    }
   ],
   "source": [
    "fig,ax = plt.subplots(nrows=2,ncols=3,figsize=(15,10),sharex=True)\n",
    "mets = [(so,si,'Strength','out-strength','in-strength'),(bc,cn,'shortest path','betweenness','closeness')\n",
    "        ,(pr,ev,'spectral','pagerank','eigen')]\n",
    "for i,w in enumerate(mets):\n",
    "    k,p = plot(pc,w[0],ax[0,i],w[3])\n",
    "    kw,pw = plot(pc,w[1],ax[1,i],w[4])\n",
    "    ax[0,i].set_title(w[2],fontsize=18)\n",
    "    st = f'Kendall {k:.3f}'\n",
    "    stw = f'Kendall {kw:.3f}'\n",
    "\n",
    "\n",
    "ax[1,0].set_xlabel('Path centrality',fontsize=18)\n",
    "ax[1,1].set_xlabel('Path centrality',fontsize=18)\n",
    "ax[1,2].set_xlabel('Path centrality',fontsize=18)\n",
    "plt.tight_layout()"
   ]
  },
  {
   "cell_type": "code",
   "execution_count": 30,
   "metadata": {},
   "outputs": [],
   "source": [
    "st = 'Centrality metric, Top 5 nodes'\n",
    "r = ['Out-strength','In-strength','Betweenness','Closeness','Eigen','Pagerank']\n",
    "for i,w in enumerate([so,si,bc,cn,ev,pr]):\n",
    "    st = st + '\\n' + r[i] + ' , ' +' - '.join([xx[0] for xx in w[0:5]])"
   ]
  },
  {
   "cell_type": "code",
   "execution_count": 31,
   "metadata": {},
   "outputs": [
    {
     "name": "stdout",
     "output_type": "stream",
     "text": [
      "Centrality metric, Top 5 nodes\n",
      "Out-strength , ENTl - CA2 - PIR - FRP - EPv\n",
      "In-strength , CA1 - MOs - ENTl - DP - FRP\n",
      "Betweenness , ENTl - CLA - PERI - VISl - MOs\n",
      "Closeness , ENTl - PERI - CLA - PIR - VISl\n",
      "Eigen , MOs - FRP - AOB - CLA - MOp\n",
      "Pagerank , VISl - RSPagl - VISpm - FRP - RSPv\n"
     ]
    }
   ],
   "source": [
    "print(st)"
   ]
  },
  {
   "cell_type": "code",
   "execution_count": 23,
   "metadata": {},
   "outputs": [
    {
     "data": {
      "text/plain": [
       "Text(0.5,0,'Path centrality')"
      ]
     },
     "execution_count": 23,
     "metadata": {},
     "output_type": "execute_result"
    },
    {
     "data": {
      "image/png": "[encoded data removed]",
      "text/plain": [
       "<matplotlib.figure.Figure at 0x11eb66908>"
      ]
     },
     "metadata": {},
     "output_type": "display_data"
    }
   ],
   "source": [
    "import cpalgorithm as cpa\n",
    "rb = cpa.Rombach()\n",
    "rb.detect(G)\n",
    "a = rb.get_coreness()\n",
    "rb = cpa.Rombach()\n",
    "rb.detect(G)\n",
    "b = rb.get_coreness()\n",
    "# a = nx.core_number(G)\n",
    "plot(si,process_metric(a,ex),text=False)\n",
    "plt.ylabel('Core score')\n",
    "plt.xlabel('Path centrality')"
   ]
  },
  {
   "cell_type": "code",
   "execution_count": 20,
   "metadata": {},
   "outputs": [],
   "source": [
    "import numpy as np\n",
    "\n",
    "pad = lambda x: np.hstack([x, np.ones((x.shape[0], 1))])\n",
    "unpad = lambda x: x[:,:-1]\n",
    "\n",
    "def get_affine_transform(primary,secondary):\n",
    "\n",
    "    # Pad the data with ones, so that our transformation can do translations too\n",
    "    n = primary.shape[0]\n",
    "\n",
    "    X = pad(primary)\n",
    "    Y = pad(secondary)\n",
    "\n",
    "    # Solve the least squares problem X * A = Y\n",
    "    # to find our transformation matrix A\n",
    "    A, res, rank, s = np.linalg.lstsq(X, Y)\n",
    "\n",
    "\n",
    "    A[np.abs(A) < 1e-10] = 0 # set really small values to zero\n",
    "    return A\n",
    "\n",
    "def apply_affine(A,x):\n",
    "    transform = lambda x: unpad(np.dot(pad(x), A))\n",
    "    return transform(x)"
   ]
  },
  {
   "cell_type": "code",
   "execution_count": 24,
   "metadata": {},
   "outputs": [
    {
     "name": "stderr",
     "output_type": "stream",
     "text": [
      "/anaconda2/envs/py36/lib/python3.6/site-packages/ipykernel_launcher.py:16: FutureWarning: `rcond` parameter will change to the default of machine precision times ``max(M, N)`` where M and N are the input matrix dimensions.\n",
      "To use the future default and silence this warning we advise to pass `rcond=None`, to keep using the old, explicitly pass `rcond=-1`.\n",
      "  app.launch_new_instance()\n"
     ]
    },
    {
     "data": {
      "text/plain": [
       "array([[8., 1.]])"
      ]
     },
     "execution_count": 24,
     "metadata": {},
     "output_type": "execute_result"
    }
   ],
   "source": [
    "tx = 2\n",
    "ty = -1\n",
    "primary = np.array([[1, 1],\n",
    "                    [0, 0],\n",
    "                    [2, 0]])\n",
    "\n",
    "secondary = np.array([[-2+tx, 2+ty],\n",
    "                    [0+tx, 0+ty],\n",
    "                    [0+tx, 4+ty]])\n",
    "test = np.array([[1,-3]])\n",
    "A = get_affine_transform(primary,secondary)\n",
    "apply_affine(A,test)"
   ]
  },
  {
   "cell_type": "code",
   "execution_count": null,
   "metadata": {},
   "outputs": [],
   "source": []
  }
 ],
 "metadata": {
  "kernelspec": {
   "display_name": "Python 3",
   "language": "python",
   "name": "python3"
  },
  "language_info": {
   "codemirror_mode": {
    "name": "ipython",
    "version": 3
   },
   "file_extension": ".py",
   "mimetype": "text/x-python",
   "name": "python",
   "nbconvert_exporter": "python",
   "pygments_lexer": "ipython3",
   "version": "3.6.4"
  }
 },
 "nbformat": 4,
 "nbformat_minor": 2
}
