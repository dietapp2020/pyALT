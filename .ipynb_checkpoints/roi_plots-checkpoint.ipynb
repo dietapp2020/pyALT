{
 "cells": [
  {
   "cell_type": "code",
   "execution_count": 146,
   "metadata": {},
   "outputs": [],
   "source": [
    "import json\n",
    "with open('/Users/kshadi3/Documents/ROIs/colors.json') as f:\n",
    "    colors = json.load(f)\n",
    "with open('/Users/kshadi3/Documents/ROIs/texts.json') as f:\n",
    "    txts = json.load(f)\n",
    "def hex_to_rgb(value):\n",
    "    value = value.lstrip('#')\n",
    "    lv = len(value)\n",
    "    return tuple(int(value[i:i + lv // 3], 16) for i in range(0, lv, lv // 3))"
   ]
  },
  {
   "cell_type": "code",
   "execution_count": 50,
   "metadata": {},
   "outputs": [],
   "source": [
    "from PIL import Image\n",
    "from matplotlib import pyplot as plt\n",
    "import pickle as pk\n",
    "from pyALT import *"
   ]
  },
  {
   "cell_type": "code",
   "execution_count": 33,
   "metadata": {},
   "outputs": [
    {
     "data": {
      "text/plain": [
       "(255, 0, 0)"
      ]
     },
     "execution_count": 33,
     "metadata": {},
     "output_type": "execute_result"
    }
   ],
   "source": [
    "hex_to_rgb(colors['VISp'])"
   ]
  },
  {
   "cell_type": "code",
   "execution_count": 6,
   "metadata": {},
   "outputs": [],
   "source": [
    "import scipy.misc\n",
    "import numpy as np"
   ]
  },
  {
   "cell_type": "code",
   "execution_count": 7,
   "metadata": {},
   "outputs": [
    {
     "name": "stderr",
     "output_type": "stream",
     "text": [
      "/anaconda2/envs/py36/lib/python3.6/site-packages/ipykernel_launcher.py:14: DeprecationWarning: `imread` is deprecated!\n",
      "`imread` is deprecated in SciPy 1.0.0, and will be removed in 1.2.0.\n",
      "Use ``imageio.imread`` instead.\n",
      "  \n"
     ]
    }
   ],
   "source": [
    "roi_dir = '/Users/kshadi3/Documents/ROIs/'\n",
    "from os import listdir\n",
    "from os.path import isfile, join\n",
    "def load_rois():\n",
    "    tmp = [f for f in listdir(roi_dir) if (isfile(join(roi_dir, f)) and '.png' in f and 'source_' in f)]\n",
    "    rois = [xx.split('_')[-1].split('.')[0] for xx in tmp]\n",
    "    db = {}\n",
    "    for i,w in enumerate(tmp):\n",
    "        roi = read_roi(join(roi_dir,w))\n",
    "        db[rois[i]] = roi\n",
    "    return db\n",
    "\n",
    "def read_roi(fp):\n",
    "    im = scipy.misc.imread(fp, flatten=False, mode='RGBA')\n",
    "    m,n,c = im.shape\n",
    "    roi = np.zeros((m,n),dtype='int8')\n",
    "    for i in range(m):\n",
    "        for j in range(n):\n",
    "            tmp = tuple(im[i,j])\n",
    "            if tmp[-1]>0:\n",
    "                roi[i,j] = 1\n",
    "    return roi\n",
    "\n",
    "def union_rois(db,rois,val=1):\n",
    "    out = db[rois[0]]\n",
    "    for w in rois[1:]:\n",
    "        out = out + db[w]\n",
    "    out[out>0] = val\n",
    "    return out\n",
    "rois = load_rois()"
   ]
  },
  {
   "cell_type": "code",
   "execution_count": 13,
   "metadata": {},
   "outputs": [],
   "source": [
    "m,n = rois['VISp'].shape"
   ]
  },
  {
   "cell_type": "code",
   "execution_count": 77,
   "metadata": {},
   "outputs": [],
   "source": [
    "base = '/Users/kshadi3/Dropbox/Constantine-Majid/'\n",
    "animals = {\n",
    "    'd':'Animal_D_M022311',\n",
    "    'e':'Animal_E_M090611',\n",
    "    'c':'Animal_C_M022111',\n",
    "    'b':'Animal_B_M021811',\n",
    "    'a':'Animal_A_M022411'\n",
    "}\n",
    "_animal = 'e'\n",
    "animal = animals[_animal]\n",
    "mask = vsd.load_mask(animal)\n",
    "with open(base+animal+'/tx.pk','rb') as f:\n",
    "    tx = pk.load(f)"
   ]
  },
  {
   "cell_type": "code",
   "execution_count": 78,
   "metadata": {},
   "outputs": [
    {
     "name": "stdout",
     "output_type": "stream",
     "text": [
      "FRP\n",
      "ACAd\n",
      "PL\n",
      "TEa\n",
      "VISpor\n",
      "RSPv\n",
      "VISpl\n"
     ]
    },
    {
     "data": {
      "text/plain": [
       "<matplotlib.image.AxesImage at 0x11afd0518>"
      ]
     },
     "execution_count": 78,
     "metadata": {},
     "output_type": "execute_result"
    },
    {
     "data": {
      "image/png": "[encoded data removed]",
      "text/plain": [
       "<matplotlib.figure.Figure at 0x111166550>"
      ]
     },
     "metadata": {},
     "output_type": "display_data"
    }
   ],
   "source": [
    "m,n = mask.shape\n",
    "out = np.zeros((m,n,3),dtype='uint8')\n",
    "for i,k in enumerate(tx['mapped_rois']):\n",
    "    r = tx['mapped_rois'][k]\n",
    "    tmp = sum(sum(r>0))\n",
    "    if tmp<20:print(k)\n",
    "    h = hex_to_rgb(colors[k])\n",
    "    out[r>0,:]=[h[0],h[1],h[2]]\n",
    "im = Image.fromarray(out,mode='RGB')\n",
    "fig= plt.figure(figsize=(10,10))\n",
    "plt.axis('off')\n",
    "plt.imshow(out)"
   ]
  },
  {
   "cell_type": "code",
   "execution_count": 62,
   "metadata": {},
   "outputs": [
    {
     "data": {
      "text/plain": [
       "1376"
      ]
     },
     "execution_count": 62,
     "metadata": {},
     "output_type": "execute_result"
    }
   ],
   "source": [
    "sum(sum(tx['mapped_rois']['VISp']>0))"
   ]
  },
  {
   "cell_type": "code",
   "execution_count": 79,
   "metadata": {},
   "outputs": [],
   "source": [
    "G = io.load('meso_cortex.pk')"
   ]
  },
  {
   "cell_type": "code",
   "execution_count": 185,
   "metadata": {},
   "outputs": [],
   "source": [
    "m,n = rois['VISp'].shape\n",
    "out = 255*np.ones((m,n,3),dtype='uint8')\n",
    "out[:,:,0]= 0\n",
    "out[:,:,2]= 0\n",
    "vals = []\n",
    "sensor = 'SSp-m'\n",
    "for v,node in G.out_edges(sensor):\n",
    "    if node not in rois.keys():continue\n",
    "    vals+=[(node,G[v][node]['weight'])]\n",
    "mx = max([xx[1] for xx in vals])\n",
    "mn = min([xx[1] for xx in vals])\n",
    "try:\n",
    "    r = rois[sensor]\n",
    "    out[r>0,:]=[255,0,0]\n",
    "except KeyError:\n",
    "    pass\n",
    "for i,k in enumerate(rois):\n",
    "    if k==sensor:continue\n",
    "    r = rois[k]\n",
    "    out[r>0,:]=[0,0,255]\n",
    "for roi,w in vals:\n",
    "    r = rois[roi]\n",
    "    f = 255-int(255*(w-mn)/mx-mn)\n",
    "    out[r>0,:]=[f,f,f]\n",
    "    \n",
    "lout = 255*np.ones((m,n,3),dtype='uint8')\n",
    "lout[:,:,0]= 0\n",
    "lout[:,:,2]= 0\n",
    "vals = []\n",
    "for v,node in G.out_edges(sensor):\n",
    "    if node not in rois.keys():continue\n",
    "    vals+=[(node,G[v][node]['distance'])]\n",
    "mx = max([xx[1] for xx in vals])\n",
    "mn = min([xx[1] for xx in vals])\n",
    "try:\n",
    "    r = rois[sensor]\n",
    "    lout[r>0,:]=[255,0,0]\n",
    "except KeyError:\n",
    "    pass\n",
    "for i,k in enumerate(rois):\n",
    "    if k==sensor:continue\n",
    "    r = rois[k]\n",
    "    lout[r>0,:]=[0,0,255]\n",
    "for roi,w in vals:\n",
    "    r = rois[roi]\n",
    "    f = 255-int(255*(w-mn)/mx-mn)\n",
    "    lout[r>0,:]=[f,f,f]"
   ]
  },
  {
   "cell_type": "code",
   "execution_count": 186,
   "metadata": {},
   "outputs": [
    {
     "data": {
      "text/plain": [
       "Text(0.5,1,'Connection distance')"
      ]
     },
     "execution_count": 186,
     "metadata": {},
     "output_type": "execute_result"
    },
    {
     "data": {
      "image/png": "[encoded data removed]",
      "text/plain": [
       "<matplotlib.figure.Figure at 0x136c0b748>"
      ]
     },
     "metadata": {},
     "output_type": "display_data"
    }
   ],
   "source": [
    "fig,ax= plt.subplots(1,2,figsize=(10,10))\n",
    "ax[0].axis('off')\n",
    "ax[1].axis('off')\n",
    "for t,co in txts.items():\n",
    "    if t in [xx[0] for xx in vals]:\n",
    "        ax[0].text(co[0]-45,co[1],t,color='#FFAA66',fontsize=14)\n",
    "        ax[1].text(co[0]-45,co[1],t,color='#FFAA66',fontsize=14)\n",
    "ax[0].imshow(out)\n",
    "ax[1].imshow(lout)\n",
    "ax[0].set_title('Connection weight',fontsize=18)\n",
    "ax[1].set_title('Connection distance',fontsize=18)"
   ]
  },
  {
   "cell_type": "code",
   "execution_count": null,
   "metadata": {},
   "outputs": [],
   "source": []
  }
 ],
 "metadata": {
  "kernelspec": {
   "display_name": "Python 3",
   "language": "python",
   "name": "python3"
  },
  "language_info": {
   "codemirror_mode": {
    "name": "ipython",
    "version": 3
   },
   "file_extension": ".py",
   "mimetype": "text/x-python",
   "name": "python",
   "nbconvert_exporter": "python",
   "pygments_lexer": "ipython3",
   "version": "3.6.4"
  }
 },
 "nbformat": 4,
 "nbformat_minor": 2
}
