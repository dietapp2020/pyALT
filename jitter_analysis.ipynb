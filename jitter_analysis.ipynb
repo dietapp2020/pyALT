{
 "cells": [
  {
   "cell_type": "code",
   "execution_count": 1,
   "metadata": {},
   "outputs": [],
   "source": [
    "from pyALT import *\n",
    "import pyALT.io as io\n",
    "from scipy.stats import kendalltau\n",
    "from scipy.stats import pearsonr\n",
    "import numpy as np\n",
    "from collections import Counter"
   ]
  },
  {
   "cell_type": "code",
   "execution_count": 3,
   "metadata": {},
   "outputs": [
    {
     "name": "stdout",
     "output_type": "stream",
     "text": [
      "Run,tau,Core nodes\n",
      "[3. 4.]\n",
      "Perturbed,50,CLA - PTLp - AUDv\n",
      "GT,50,CLA - PTLp - AUDv\n",
      "[5. 6.]\n",
      "Perturbed,70,PTLp - CLA - AUDv - AOB - AIp\n",
      "GT,70,CLA - PTLp - AUDv - AIp - MOs\n",
      "[10. 13.]\n",
      "Perturbed,90,CLA - PTLp - AUDv - ACAd - AIp - PERI - VISal - AOB - MOs - MOp - ECT\n",
      "GT,90,CLA - PTLp - AUDv - AIp - MOs - AOB - ACAd - VISl - ECT - AId - VISal\n"
     ]
    }
   ],
   "source": [
    "with open('weight_jitter.pk','rb') as f:\n",
    "    J = pk.load(f)\n",
    "base = Core(J[(0.0, 1)][0])\n",
    "c = Cores()\n",
    "for i in range(49):\n",
    "    tmp = Core(J[(0.5263157894736842, i)][0])\n",
    "    c += tmp\n",
    "print('Run,tau,Core nodes')\n",
    "for tau in [50,70,90]:\n",
    "    D = []\n",
    "    b = base.tau_core(tau)\n",
    "    out = c.tau_core(tau)\n",
    "    for w in out:\n",
    "        for node in w:\n",
    "            D.append(node[0])\n",
    "    d = Counter(D)\n",
    "    s = list(map(lambda x:len(x),out))\n",
    "    sm = int(np.round(np.median(s)))\n",
    "    print(np.percentile(s,[10,90]))\n",
    "    print('Perturbed,'+str(tau)+','+' - '.join([xx[0] for xx in d.most_common(sm)]))\n",
    "    print('GT,'+str(tau)+','+' - '.join([xx[0] for xx in b]))\n",
    "    st = np.std(s)\n",
    "#     print(','.join([str(x) for x in [tau,sm,st,len(b)]]))\n",
    "#     print('-------')"
   ]
  },
  {
   "cell_type": "code",
   "execution_count": 11,
   "metadata": {},
   "outputs": [
    {
     "data": {
      "text/plain": [
       "['CLA',\n",
       " 'PTLp',\n",
       " 'AUDv',\n",
       " 'AIp',\n",
       " 'MOs',\n",
       " 'AOB',\n",
       " 'ACAd',\n",
       " 'VISl',\n",
       " 'ECT',\n",
       " 'AId',\n",
       " 'VISal']"
      ]
     },
     "execution_count": 11,
     "metadata": {},
     "output_type": "execute_result"
    }
   ],
   "source": [
    "[xx[0] for xx in b]"
   ]
  },
  {
   "cell_type": "code",
   "execution_count": 4,
   "metadata": {},
   "outputs": [
    {
     "name": "stdout",
     "output_type": "stream",
     "text": [
      "Run,tau,Core nodes\n",
      "Perturbed,50,CLA - AUDv\n",
      "-erturbed,50,CLA - PTLp - AUDv\n",
      "Perturbed,70,CLA - AUDv - PTLp - SSs\n",
      "-erturbed,70,CLA - PTLp - AUDv - AIp - MOs\n",
      "Perturbed,90,CLA - PTLp - AUDv - ACAd - AOB - SSs - VISl\n",
      "-erturbed,90,CLA - PTLp - AUDv - AIp - MOs - AOB - ACAd - VISl - ECT - AId - VISal\n"
     ]
    }
   ],
   "source": [
    "base = Core(J[(0.0, 0)][0])\n",
    "with open('distance_jitter.pk','rb') as f:\n",
    "    J = pk.load(f)\n",
    "c = Cores()\n",
    "for i in range(49):\n",
    "    tmp = Core(J[(0.5263157894736842, i)][0])\n",
    "    c += tmp\n",
    "print('Run,tau,Core nodes')\n",
    "for tau in [50,70,90]:\n",
    "    D = []\n",
    "    b = base.tau_core(tau)\n",
    "    out = c.tau_core(tau)\n",
    "    for w in out:\n",
    "        for node in w:\n",
    "            D.append(node[0])\n",
    "    d = Counter(D)\n",
    "    s = list(map(lambda x:len(x),out))\n",
    "    sm = np.median(np.round(s))\n",
    "    sm = int(np.round(np.median(s)))\n",
    "    print('Perturbed,'+str(tau)+','+' - '.join([xx[0] for xx in d.most_common(sm)]))\n",
    "    print('-erturbed,'+str(tau)+','+' - '.join([xx[0] for xx in b]))\n",
    "    st = np.std(s)\n",
    "#     print(' & '.join([str(x) for x in [tau,sm,st,len(b)]]))\n",
    "#     print('-------')"
   ]
  },
  {
   "cell_type": "code",
   "execution_count": null,
   "metadata": {},
   "outputs": [],
   "source": []
  }
 ],
 "metadata": {
  "kernelspec": {
   "display_name": "Python 3",
   "language": "python",
   "name": "python3"
  },
  "language_info": {
   "codemirror_mode": {
    "name": "ipython",
    "version": 3
   },
   "file_extension": ".py",
   "mimetype": "text/x-python",
   "name": "python",
   "nbconvert_exporter": "python",
   "pygments_lexer": "ipython3",
   "version": "3.6.4"
  }
 },
 "nbformat": 4,
 "nbformat_minor": 2
}
